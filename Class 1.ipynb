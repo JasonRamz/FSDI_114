{
 "cells": [
  {
   "cell_type": "code",
   "execution_count": 1,
   "id": "271155bd-a11d-4851-bc25-34d54e953028",
   "metadata": {},
   "outputs": [
    {
     "name": "stdout",
     "output_type": "stream",
     "text": [
      "h\n",
      "e\n",
      "l\n",
      "l\n",
      "o\n",
      ",\n",
      " \n",
      "w\n",
      "o\n",
      "r\n",
      "l\n",
      "d\n",
      "!\n"
     ]
    }
   ],
   "source": [
    "for char in \"hello, world!\":\n",
    "    print(char)\n",
    "    "
   ]
  },
  {
   "cell_type": "markdown",
   "id": "aced1d8f-1647-4256-8458-8f2109c42e14",
   "metadata": {},
   "source": [
    "# Problem 1: Anagram Check\n",
    "\n",
    "### Create a function that takes two strings as parameters and determines if these are anagrams of each other. Return True if they are,False otherwise.\n",
    "### Criteria\n",
    "two strings are anagrams of each other if *all* the criteria below are met:\n",
    "1. they must have the same number of letters\n",
    "2. they must have the same letters, the same amount of times\n",
    "### Example:\n",
    "heart and earth\n",
    "\n",
    "cars and scar\n",
    "\n",
    "rats and star"
   ]
  },
  {
   "cell_type": "markdown",
   "id": "e47f753c-6e06-4aff-a48d-0df0542c1905",
   "metadata": {},
   "source": [
    "# defire anagram_check with parameters: str1 and str2:\n",
    "# str1 = str2 in lowercase without spaces\n",
    "# str2 = str1 in lowercase without spaces\n",
    "# if the length of str1 is equal to the length of str2 \n",
    "#     return False \n",
    "#  # beyond this point is safe to assume that the length of str1 is equal to the length of str2\n",
    "#    dict1 = new dict\n",
    "#    dict2 = new dict\n",
    "#    for each number in the range 0 to the length of str1:\n",
    "#        if the letter at position \"number\" of str1 is in dic1:\n",
    "#             add 1 to the value associated with letter in dict1\n",
    "#        otherwise:\n",
    "#             create a new key in dict1 with \"letter\n",
    "#                give that key the value of 1(because we've seen it once)\n",
    "\n",
    "#        if the letter at position \"number\" of str2 is in dic2:\n",
    "#             add 1 to the value associated with letter in dict2\n",
    "#        otherwise:\n",
    "#             create a new key in dict2with \"letter\n",
    "#                give that key the value of 1(because we've seen it once)\n",
    "#     if dict1 is equal to dict2:\n",
    "#           return True\n",
    "#      otherwise:\n",
    "#           return False\n"
   ]
  },
  {
   "cell_type": "code",
   "execution_count": 19,
   "id": "e61b27e5-bda4-4ef4-ac23-a9ffc9e4051a",
   "metadata": {},
   "outputs": [
    {
     "name": "stdout",
     "output_type": "stream",
     "text": [
      "True\n"
     ]
    }
   ],
   "source": [
    "def anagram_check(str1, str2):\n",
    "    str1 = str1.lower().replace(\" \", \"\")\n",
    "    str2 = str2.lower().replace(\" \", \"\")\n",
    "\n",
    "    if len(str1) != len(str2):\n",
    "        return False\n",
    "\n",
    "    dict1 = {}\n",
    "    dict2 = {}\n",
    "\n",
    "    for letter in str1:\n",
    "        if letter in dict1:\n",
    "            dict1[letter] += 1\n",
    "        else:\n",
    "            dict1[letter] = 1\n",
    "\n",
    "    for letter in str2:\n",
    "        if letter in dict2:\n",
    "            dict2[letter] += 1\n",
    "        else:\n",
    "            dict2[letter] = 1\n",
    "\n",
    "    return dict1 == dict2\n",
    "\n",
    "str1 = \"listen\"\n",
    "str2 = \"silent\"\n",
    "result = anagram_check(str1, str2)\n",
    "print(result)"
   ]
  }
 ],
 "metadata": {
  "kernelspec": {
   "display_name": "Python 3 (ipykernel)",
   "language": "python",
   "name": "python3"
  },
  "language_info": {
   "codemirror_mode": {
    "name": "ipython",
    "version": 3
   },
   "file_extension": ".py",
   "mimetype": "text/x-python",
   "name": "python",
   "nbconvert_exporter": "python",
   "pygments_lexer": "ipython3",
   "version": "3.9.2"
  }
 },
 "nbformat": 4,
 "nbformat_minor": 5
}
