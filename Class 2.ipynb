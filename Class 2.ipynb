{
 "cells": [
  {
   "cell_type": "code",
   "execution_count": 4,
   "id": "5267aca8-1ae2-4ab3-a1e1-ce3013a4f771",
   "metadata": {},
   "outputs": [],
   "source": [
    "class Stack:\n",
    "    def __init__(self):\n",
    "        self.items=[]\n",
    "#our stack class internally relies on the built-in data structure \"list\":\n",
    "    def push(self, value):\n",
    "        self.items.append(value)\n",
    "\n",
    "    def pop(self):\n",
    "        return self.items.pop()\n",
    "#nice to have methods\n",
    "    def peek(self):\n",
    "        return self.items[len(self.items)-1]\n",
    "\n",
    "    def size(self):\n",
    "        return len(self.items)\n",
    "\n",
    "    def is_empty(self):\n",
    "        return self.items ==[]"
   ]
  },
  {
   "cell_type": "code",
   "execution_count": 5,
   "id": "d623aa08-82d0-46b8-8db2-315068921268",
   "metadata": {},
   "outputs": [
    {
     "data": {
      "text/plain": [
       "'nosaJ'"
      ]
     },
     "execution_count": 5,
     "metadata": {},
     "output_type": "execute_result"
    }
   ],
   "source": [
    "#Create a function that inverts a string using our Stack class(above)\n",
    "\n",
    "def invert_str(mystring):\n",
    "    stack = Stack()     #instantiation\n",
    "    for char in mystring:\n",
    "        stack.push(char)\n",
    "    out = \"\"\n",
    "    while not stack.is_empty():\n",
    "        out += stack.pop()\n",
    "    return out \n",
    "invert_str(\"Jason\")"
   ]
  },
  {
   "cell_type": "code",
   "execution_count": 16,
   "id": "3cad26dc-b24d-4eb5-bc48-ff06d31ff5eb",
   "metadata": {},
   "outputs": [
    {
     "name": "stdout",
     "output_type": "stream",
     "text": [
      "Something\n",
      "something\n",
      "Something\n",
      "something\n"
     ]
    }
   ],
   "source": [
    "#small detour\n",
    "myemptystr = \"A\"\n",
    "count = 0\n",
    "#These two if statements are equivalent:\n",
    "if myemptystr:\n",
    "    print(\"Something\")\n",
    "if myemptystr != None:\n",
    "    print(\"something\")\n",
    "    # These two while statement are equivalent:\n",
    "while myemptystr:\n",
    "    print(\"Something\")\n",
    "    myemptystr = \"\"\n",
    "    \n",
    "myemptystr = \"A\"\n",
    "while myemptystr != \"\":\n",
    "    print(\"something\")\n",
    "    myemptystr = \"\""
   ]
  },
  {
   "cell_type": "code",
   "execution_count": 25,
   "id": "011e5604-8ad3-4321-81ce-7c9bd68ba4a0",
   "metadata": {},
   "outputs": [
    {
     "name": "stdout",
     "output_type": "stream",
     "text": [
      "134551601379792\n",
      "134551601379760\n"
     ]
    }
   ],
   "source": [
    "\n",
    "# pass by value example:\n",
    "#Primary data types in python always pass by value \n",
    "x = 5\n",
    "y = x\n",
    "\n",
    "x += 1\n",
    "print(id(x))\n",
    "print(id(y))"
   ]
  },
  {
   "cell_type": "code",
   "execution_count": 24,
   "id": "5a45fb4f-ac59-406d-a77e-95fb30c2ee31",
   "metadata": {},
   "outputs": [
    {
     "name": "stdout",
     "output_type": "stream",
     "text": [
      "134551092407680\n",
      "134551092407680\n"
     ]
    }
   ],
   "source": [
    "x = [1, 2, 3, 4, 5]\n",
    "y = x\n",
    "\n",
    "x.append(6)\n",
    "\n",
    "print(id(x))\n",
    "print(id(y))"
   ]
  },
  {
   "cell_type": "code",
   "execution_count": null,
   "id": "40b2875f-f23f-4d93-bd67-25af01c11f4a",
   "metadata": {},
   "outputs": [],
   "source": [
    "# from scratch implementation of stack (No Build-in)\n",
    "\n",
    "class StackII:\n",
    "    class __Node:\n",
    "        def __init__(self, data):\n",
    "            self.data = data\n",
    "            self.below = None\n",
    "            \n",
    "    def __init__(self):\n",
    "        self.top = None\n",
    "        \n",
    "    def push(self, value):\n",
    "        new_node = self.__Node(value)\n",
    "        if not self.top:      # if self.top == None\n",
    "            self.top = new_node\n",
    "        else:\n",
    "            old_top = self.top\n",
    "            self.top = new_node\n",
    "            new_node.below = old_top\n",
    "        \n",
    "    def pop (self):\n",
    "        if not self.top:\n",
    "            raise IndexError(\"stack is empty\")\n",
    "        else:\n",
    "            datum = self.top.data\n",
    "            node_below = self.top.below\n",
    "            self.top = node_below\n",
    "            return datum\n",
    "#mini challenge\n",
    "    def size (self):\n",
    "        #this should return number of nodes in our stack\n",
    "        current = self.top\n",
    "        count = 0\n",
    "        while current:\n",
    "            count += 1\n",
    "            current = current.below\n",
    "        return count\n",
    "        \n",
    "    def peek(self):\n",
    "        #this should return the data element stored in the topmost node , without removing it:\n",
    "        if not self.top\n",
    "            raise IndexError(\"stack is empty\")\n",
    "        return self.top.data\n",
    "        \n",
    "    def is_empty(self):\n",
    "        #this should return True if the stack is empty , False otherwise\n",
    "        if not self.top:\n",
    "            return True\n",
    "        else:\n",
    "            return False"
   ]
  }
 ],
 "metadata": {
  "kernelspec": {
   "display_name": "Python 3 (ipykernel)",
   "language": "python",
   "name": "python3"
  },
  "language_info": {
   "codemirror_mode": {
    "name": "ipython",
    "version": 3
   },
   "file_extension": ".py",
   "mimetype": "text/x-python",
   "name": "python",
   "nbconvert_exporter": "python",
   "pygments_lexer": "ipython3",
   "version": "3.9.2"
  }
 },
 "nbformat": 4,
 "nbformat_minor": 5
}
